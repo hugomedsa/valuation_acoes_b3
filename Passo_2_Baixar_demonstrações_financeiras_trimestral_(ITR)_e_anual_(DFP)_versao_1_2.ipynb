{
  "cells": [
    {
      "cell_type": "markdown",
      "metadata": {
        "id": "view-in-github",
        "colab_type": "text"
      },
      "source": [
        "<a href=\"https://colab.research.google.com/github/hugomedsa/valuation_acoes_b3/blob/main/Passo_2_Baixar_demonstra%C3%A7%C3%B5es_financeiras_trimestral_(ITR)_e_anual_(DFP)_versao_1_2.ipynb\" target=\"_parent\"><img src=\"https://colab.research.google.com/assets/colab-badge.svg\" alt=\"Open In Colab\"/></a>"
      ]
    },
    {
      "cell_type": "markdown",
      "metadata": {
        "id": "UPogmFIYQx3T"
      },
      "source": [
        "\n",
        "* Configurações Iniciais"
      ]
    },
    {
      "cell_type": "code",
      "execution_count": null,
      "metadata": {
        "id": "8YM9CQhgS7wG",
        "colab": {
          "base_uri": "https://localhost:8080/"
        },
        "outputId": "70c26ad8-dda5-40dc-fc1c-d93619b8228a"
      },
      "outputs": [
        {
          "output_type": "stream",
          "name": "stdout",
          "text": [
            "  Preparing metadata (setup.py) ... \u001b[?25l\u001b[?25hdone\n",
            "  Building wheel for wget (setup.py) ... \u001b[?25l\u001b[?25hdone\n"
          ]
        }
      ],
      "source": [
        "!pip install wget -q\n",
        "import pandas as pd\n",
        "from pandas_datareader import data\n",
        "from time import sleep\n",
        "import wget, os\n",
        "import zipfile\n",
        "import warnings\n",
        "warnings.filterwarnings('ignore')"
      ]
    },
    {
      "cell_type": "code",
      "execution_count": null,
      "metadata": {
        "colab": {
          "base_uri": "https://localhost:8080/"
        },
        "id": "xEBSvuw5cv6V",
        "outputId": "49da9e1f-d01c-46cf-f380-3a73f146768c"
      },
      "outputs": [
        {
          "output_type": "stream",
          "name": "stdout",
          "text": [
            "Mounted at /content/drive\n"
          ]
        }
      ],
      "source": [
        "from google.colab import drive\n",
        "drive.mount('/content/drive')"
      ]
    },
    {
      "cell_type": "code",
      "execution_count": null,
      "metadata": {
        "id": "5yUQJM3K_SeN"
      },
      "outputs": [],
      "source": [
        "tip = 'ITR' #caixa alta - ITR ou DFP\n",
        "a_t = 2023 # ultimo ano com dados\n",
        "tri = '09' # mes final: 03,06 ou 09"
      ]
    },
    {
      "cell_type": "markdown",
      "metadata": {
        "id": "ifdOf0OqR2E5"
      },
      "source": [
        "##### Acessando a base de dados e criando arquivos históricos"
      ]
    },
    {
      "cell_type": "code",
      "execution_count": null,
      "metadata": {
        "id": "Ar6zTdOBTAwL"
      },
      "outputs": [],
      "source": [
        " url_base = f'http://dados.cvm.gov.br/dados/CIA_ABERTA/DOC/{tip}/DADOS/'"
      ]
    },
    {
      "cell_type": "markdown",
      "metadata": {
        "id": "QOhM2X0WSD9q"
      },
      "source": [
        "* criando uma lista com o nome de todos os arquivos"
      ]
    },
    {
      "cell_type": "code",
      "execution_count": null,
      "metadata": {
        "id": "11Sv_DLPI0hp"
      },
      "outputs": [],
      "source": [
        "arquivos_zip = []\n",
        "if tip == 'ITR':\n",
        "  for ano in range(2011,a_t+1):\n",
        "    arquivos_zip.append(f'{tip.lower()}_cia_aberta_{ano}.zip')\n",
        "else:\n",
        "  for ano in range(2010,a_t+1):\n",
        "    arquivos_zip.append(f'{tip.lower()}_cia_aberta_{ano}.zip')"
      ]
    },
    {
      "cell_type": "code",
      "source": [
        "arquivos_zip"
      ],
      "metadata": {
        "colab": {
          "base_uri": "https://localhost:8080/"
        },
        "id": "zgyssqp9OqlK",
        "outputId": "194ef14e-95ba-4ce1-ef68-d98f3b60ef08"
      },
      "execution_count": null,
      "outputs": [
        {
          "output_type": "execute_result",
          "data": {
            "text/plain": [
              "['itr_cia_aberta_2011.zip',\n",
              " 'itr_cia_aberta_2012.zip',\n",
              " 'itr_cia_aberta_2013.zip',\n",
              " 'itr_cia_aberta_2014.zip',\n",
              " 'itr_cia_aberta_2015.zip',\n",
              " 'itr_cia_aberta_2016.zip',\n",
              " 'itr_cia_aberta_2017.zip',\n",
              " 'itr_cia_aberta_2018.zip',\n",
              " 'itr_cia_aberta_2019.zip',\n",
              " 'itr_cia_aberta_2020.zip',\n",
              " 'itr_cia_aberta_2021.zip',\n",
              " 'itr_cia_aberta_2022.zip',\n",
              " 'itr_cia_aberta_2023.zip']"
            ]
          },
          "metadata": {},
          "execution_count": 6
        }
      ]
    },
    {
      "cell_type": "code",
      "source": [
        "# !rm -rf /content/DADOS_CVM"
      ],
      "metadata": {
        "id": "okFPxbdwZWsk"
      },
      "execution_count": null,
      "outputs": []
    },
    {
      "cell_type": "markdown",
      "metadata": {
        "id": "YAmzeqdySQfb"
      },
      "source": [
        "* fazendo o download de todos os arquivos"
      ]
    },
    {
      "cell_type": "code",
      "execution_count": null,
      "metadata": {
        "id": "dt2h-VTkg4j8"
      },
      "outputs": [],
      "source": [
        "for arq in arquivos_zip:\n",
        "  wget.download(url_base+arq)"
      ]
    },
    {
      "cell_type": "markdown",
      "metadata": {
        "id": "z0X9bqTQSmVt"
      },
      "source": [
        "* extraindo os arquivos zip"
      ]
    },
    {
      "cell_type": "code",
      "execution_count": null,
      "metadata": {
        "id": "vDmuDRYANPRK"
      },
      "outputs": [],
      "source": [
        "for archive in arquivos_zip:\n",
        "  with zipfile.ZipFile(archive, 'r') as zip_file:\n",
        "    for zip_info in zip_file.infolist():\n",
        "      for c in ['BPA', 'BPP', 'DFC_MI','DRE']:\n",
        "        if c in zip_info.filename:\n",
        "          zip_file.extract(zip_info, f'CVM_{tip}')"
      ]
    },
    {
      "cell_type": "markdown",
      "metadata": {
        "id": "JueAaJX2Sr6K"
      },
      "source": [
        "* criandos arquivos históricos"
      ]
    },
    {
      "cell_type": "code",
      "execution_count": null,
      "metadata": {
        "id": "K8kjbgxqa7m0"
      },
      "outputs": [],
      "source": [
        "!mkdir DADOS_CVM"
      ]
    },
    {
      "cell_type": "code",
      "execution_count": null,
      "metadata": {
        "id": "NQ3cnAr6ZNrX"
      },
      "outputs": [],
      "source": [
        "balancos = ['ind','con']"
      ]
    },
    {
      "cell_type": "code",
      "execution_count": null,
      "metadata": {
        "id": "2QYEfVKaot26"
      },
      "outputs": [],
      "source": [
        "if f'{tip}_{a_t}' not in os.listdir('/content/drive/MyDrive/'):\n",
        "  os.mkdir(f'/content/drive/MyDrive/{tip}_{a_t}')"
      ]
    },
    {
      "cell_type": "code",
      "execution_count": null,
      "metadata": {
        "id": "KYCe8rMQnG8I"
      },
      "outputs": [],
      "source": [
        "for bal in balancos:\n",
        "\n",
        "  nomes = [f'BPA_{bal}', f'BPP_{bal}', f'DRE_{bal}',f'DFC_MI_{bal}']\n",
        "  dem = []\n",
        "\n",
        "  for nome in nomes:\n",
        "    arquivo = pd.DataFrame()\n",
        "    if tip == 'ITR':\n",
        "      for ano in range(2011,a_t+1):\n",
        "        arquivo = pd.concat([arquivo, pd.read_csv(f'CVM_{tip}/{tip.lower()}_cia_aberta_{nome}_{ano}.csv', sep=';', decimal=',', encoding='ISO-8859-1')])\n",
        "      arquivo.to_csv(f'DADOS_CVM/{tip.lower()}_cia_aberta_{nome}_ate-{a_t}.csv', index=False)\n",
        "      dem.append(f'DADOS_CVM/{tip.lower()}_cia_aberta_{nome}_ate-{a_t}.csv')\n",
        "    else:\n",
        "      for ano in range(2010,a_t+1):\n",
        "        arquivo = pd.concat([arquivo, pd.read_csv(f'CVM_{tip}/{tip.lower()}_cia_aberta_{nome}_{ano}.csv', sep=';', decimal=',', encoding='ISO-8859-1')])\n",
        "      arquivo.to_csv(f'DADOS_CVM/{tip.lower()}_cia_aberta_{nome}_ate-{a_t}.csv', index=False)\n",
        "      dem.append(f'DADOS_CVM/{tip.lower()}_cia_aberta_{nome}_ate-{a_t}.csv')\n",
        "\n",
        "  dem0 = pd.read_csv(dem[0])[['DT_REFER','DENOM_CIA','CD_CVM','GRUPO_DFP','ORDEM_EXERC','CD_CONTA','DS_CONTA','VL_CONTA']]\n",
        "  dem1 = pd.read_csv(dem[1])[['DT_REFER','DENOM_CIA','CD_CVM','GRUPO_DFP','ORDEM_EXERC','CD_CONTA','DS_CONTA','VL_CONTA']]\n",
        "  dem2 = pd.read_csv(dem[2])[['DT_REFER','DENOM_CIA','CD_CVM','GRUPO_DFP','ORDEM_EXERC','CD_CONTA','DS_CONTA','VL_CONTA']]\n",
        "  dem3 = pd.read_csv(dem[3])[['DT_REFER','DENOM_CIA','CD_CVM','GRUPO_DFP','ORDEM_EXERC','CD_CONTA','DS_CONTA','VL_CONTA']]\n",
        "  dem_dt = pd.concat([dem0, dem1, dem2, dem3])\n",
        "\n",
        "  if tip == 'ITR':\n",
        "    dem_dt['MES'] = dem_dt['DT_REFER'].apply(lambda x: str(x)[5:7])\n",
        "    dem_juntos = dem_dt[(dem_dt['ORDEM_EXERC'] == 'ÚLTIMO') & (dem_dt['MES'] == tri)]\n",
        "  else:\n",
        "    dem_juntos = dem_dt[dem_dt['ORDEM_EXERC'] == 'ÚLTIMO']\n",
        "  dem_juntos.to_csv(f'/content/drive/MyDrive/{tip}_{a_t}/{tip.lower()}_{bal}_filtrado.csv', index=False)"
      ]
    }
  ],
  "metadata": {
    "colab": {
      "provenance": [],
      "include_colab_link": true
    },
    "kernelspec": {
      "display_name": "Python 3",
      "name": "python3"
    },
    "language_info": {
      "name": "python"
    }
  },
  "nbformat": 4,
  "nbformat_minor": 0
}